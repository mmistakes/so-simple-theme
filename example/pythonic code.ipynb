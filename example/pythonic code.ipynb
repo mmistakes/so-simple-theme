{
 "cells": [
  {
   "cell_type": "markdown",
   "id": "828e1aae",
   "metadata": {},
   "source": [
    "# 문자열 분리 및 결합"
   ]
  },
  {
   "cell_type": "code",
   "execution_count": 4,
   "id": "60cd7a93",
   "metadata": {},
   "outputs": [
    {
     "name": "stdout",
     "output_type": "stream",
     "text": [
      "python jqery javascript\n"
     ]
    }
   ],
   "source": [
    "# split : 문자열 분리\n",
    "example = 'python,jqery,javascript'\n",
    "a, b, c = example.split(',')\n",
    "print(a,b,c)"
   ]
  },
  {
   "cell_type": "code",
   "execution_count": 5,
   "id": "683a71cc",
   "metadata": {},
   "outputs": [
    {
     "name": "stdout",
     "output_type": "stream",
     "text": [
      "redbluegreenyellow\n"
     ]
    }
   ],
   "source": [
    "# join : 문자열 결합\n",
    "colors = ['red','blue','green','yellow']\n",
    "result = ''.join(colors)\n",
    "print(result)"
   ]
  },
  {
   "cell_type": "code",
   "execution_count": 6,
   "id": "5f29afb6",
   "metadata": {},
   "outputs": [
    {
     "name": "stdout",
     "output_type": "stream",
     "text": [
      "red, blue, green, yellow\n"
     ]
    }
   ],
   "source": [
    "result = ', '.join(colors)\n",
    "print(result)"
   ]
  },
  {
   "cell_type": "markdown",
   "id": "18ef1eb9",
   "metadata": {},
   "source": [
    "# List Comprehesion"
   ]
  },
  {
   "cell_type": "code",
   "execution_count": 16,
   "id": "1de726b2",
   "metadata": {},
   "outputs": [
    {
     "name": "stdout",
     "output_type": "stream",
     "text": [
      "[0, 2, 4, 6, 8]\n"
     ]
    }
   ],
   "source": [
    "# 10이하의 짝수 생성\n",
    "result = [i for i in range(10) if i % 2 == 0]\n",
    "print(result)"
   ]
  },
  {
   "cell_type": "code",
   "execution_count": 10,
   "id": "9bdd05e5",
   "metadata": {},
   "outputs": [
    {
     "name": "stdout",
     "output_type": "stream",
     "text": [
      "[0, 10, 2, 10, 4, 10, 6, 10, 8, 10]\n"
     ]
    }
   ],
   "source": [
    "# if를 앞으로 보내고, else와 함께 사용\n",
    "result = [i if i%2 ==0 else 10 for i in range(10)]\n",
    "print(result)"
   ]
  },
  {
   "cell_type": "code",
   "execution_count": 20,
   "id": "b68ec880",
   "metadata": {},
   "outputs": [
    {
     "name": "stdout",
     "output_type": "stream",
     "text": [
      "['AD', 'AE', 'AA', 'BD', 'BE', 'BA', 'CD', 'CE', 'CA']\n"
     ]
    }
   ],
   "source": [
    "# 중첩 반복문\n",
    "word1 = 'ABC'\n",
    "word2 = 'DEA'\n",
    "result = [i + j for i in word1 for j in word2]\n",
    "print(result)"
   ]
  },
  {
   "cell_type": "code",
   "execution_count": 12,
   "id": "0a7ccef1",
   "metadata": {},
   "outputs": [
    {
     "name": "stdout",
     "output_type": "stream",
     "text": [
      "['AD', 'AE', 'BD', 'BE', 'BA', 'CD', 'CE', 'CA']\n"
     ]
    }
   ],
   "source": [
    "# 중첩 반복문 with filltering\n",
    "result = [i + j for i in word1 for j in word2 if not(i ==j)]\n",
    "print(result)"
   ]
  },
  {
   "cell_type": "code",
   "execution_count": 17,
   "id": "d59d5948",
   "metadata": {},
   "outputs": [
    {
     "name": "stdout",
     "output_type": "stream",
     "text": [
      "[['AD', 'BD', 'CD'], ['AE', 'BE', 'CE'], ['AA', 'BA', 'CA']]\n"
     ]
    }
   ],
   "source": [
    "# 이차원 리스트 - word2의 j가 고정\n",
    "result = [[i + j for i in word1] for j in word2]\n",
    "print(result)"
   ]
  },
  {
   "cell_type": "code",
   "execution_count": 22,
   "id": "87eca1b9",
   "metadata": {},
   "outputs": [
    {
     "name": "stdout",
     "output_type": "stream",
     "text": [
      "[['AD', 'AE', 'AA'], ['BD', 'BE', 'BA'], ['CD', 'CE', 'CA']]\n"
     ]
    }
   ],
   "source": [
    "# 이차원 리스트 - word1을 고정하고 싶다면\n",
    "result = [[j + i for i in word2] for j in word1]\n",
    "print(result)"
   ]
  },
  {
   "cell_type": "code",
   "execution_count": 34,
   "id": "144399ba",
   "metadata": {},
   "outputs": [
    {
     "name": "stdout",
     "output_type": "stream",
     "text": [
      "11.221435308456421\n"
     ]
    }
   ],
   "source": [
    "# 백터와 스칼라의 곱\n",
    "# 8-1 loop (일반 반복문 + 리스트)\n",
    "import time\n",
    "\n",
    "start = time.time()\n",
    "\n",
    "def scalar_vector_product(scalar, vector):\n",
    "    result = []\n",
    "    for value in vector :\n",
    "        result.append(scalar + value)\n",
    "    return result\n",
    "\n",
    "iteration_max = 10000\n",
    "\n",
    "vector = list(range(iteration_max))\n",
    "scalar = 2\n",
    "\n",
    "for _ in range(iteration_max):\n",
    "    scalar_vector_product(scalar, vector)\n",
    "    \n",
    "end = time.time()\n",
    "print(end -start)"
   ]
  },
  {
   "cell_type": "code",
   "execution_count": 36,
   "id": "92134eb5",
   "metadata": {},
   "outputs": [
    {
     "name": "stdout",
     "output_type": "stream",
     "text": [
      "8.586219787597656\n"
     ]
    }
   ],
   "source": [
    "# 백터와 스칼라의 곱\n",
    "# 8-2 list comprehension\n",
    "start = time.time()\n",
    "\n",
    "iteration_max = 10000\n",
    "\n",
    "scalar = 2\n",
    "\n",
    "for _ in range(iteration_max):\n",
    "    [scalar * value for value in range(iteration_max)]\n",
    "    \n",
    "\n",
    "end = time.time()\n",
    "print(end -start)"
   ]
  },
  {
   "cell_type": "markdown",
   "id": "be8ebff8",
   "metadata": {},
   "source": [
    "# enumerate\n",
    "인덱스를 붙여 리스트 값 추출"
   ]
  },
  {
   "cell_type": "code",
   "execution_count": 1,
   "id": "4490ae02",
   "metadata": {},
   "outputs": [
    {
     "name": "stdout",
     "output_type": "stream",
     "text": [
      "0 tic\n",
      "1 tac\n",
      "2 toe\n"
     ]
    }
   ],
   "source": [
    "for i, v in enumerate(['tic','tac','toe']):\n",
    "    print(i,v)"
   ]
  },
  {
   "cell_type": "code",
   "execution_count": 40,
   "id": "0391b906",
   "metadata": {},
   "outputs": [
    {
     "name": "stdout",
     "output_type": "stream",
     "text": [
      "{0: 'TEAMLAB', 1: 'is', 2: 'an', 3: 'academic', 4: 'institute', 5: 'located', 6: 'in', 7: 'South', 8: 'Korea'}\n"
     ]
    }
   ],
   "source": [
    "dic = {i:j for i,j in enumerate(\n",
    "    'TEAMLAB is an academic institute located in South Korea'.split())}\n",
    "print(dic)"
   ]
  },
  {
   "cell_type": "markdown",
   "id": "94c36fbc",
   "metadata": {},
   "source": [
    "# zip\n",
    "두그룹의 요소들을 서로 엮음"
   ]
  },
  {
   "cell_type": "code",
   "execution_count": 41,
   "id": "1b2e5d73",
   "metadata": {},
   "outputs": [
    {
     "name": "stdout",
     "output_type": "stream",
     "text": [
      "a1 b1\n",
      "a2 b2\n",
      "a3 b3\n"
     ]
    }
   ],
   "source": [
    "alist = ['a1','a2','a3']\n",
    "blist = ['b1','b2','b3']\n",
    "for a, b in zip(alist,blist):\n",
    "    print(a,b)"
   ]
  },
  {
   "cell_type": "code",
   "execution_count": 42,
   "id": "2a44f34b",
   "metadata": {},
   "outputs": [
    {
     "name": "stdout",
     "output_type": "stream",
     "text": [
      "[('a1', 'b1'), ('a2', 'b2'), ('a3', 'b3')]\n"
     ]
    }
   ],
   "source": [
    "ablist = list(zip(alist,blist))\n",
    "print(ablist)"
   ]
  },
  {
   "cell_type": "code",
   "execution_count": 43,
   "id": "824e59df",
   "metadata": {},
   "outputs": [
    {
     "name": "stdout",
     "output_type": "stream",
     "text": [
      "(1, 10, 100) (2, 20, 200) (3, 30, 300)\n"
     ]
    }
   ],
   "source": [
    "a, b, c = zip((1,2,3),(10,20,30),(100,200,300))\n",
    "print(a,b,c)"
   ]
  },
  {
   "cell_type": "code",
   "execution_count": 44,
   "id": "c6b160dc",
   "metadata": {},
   "outputs": [
    {
     "data": {
      "text/plain": [
       "[6, 60, 600]"
      ]
     },
     "execution_count": 44,
     "metadata": {},
     "output_type": "execute_result"
    }
   ],
   "source": [
    "[sum(x) for x in zip(a,b,c)]"
   ]
  },
  {
   "cell_type": "code",
   "execution_count": 45,
   "id": "c532c726",
   "metadata": {},
   "outputs": [
    {
     "name": "stdout",
     "output_type": "stream",
     "text": [
      "{1: 'hong', 2: 'gil', 3: 'dong', 4: 'nim'}\n"
     ]
    }
   ],
   "source": [
    "no = [1,2,3,4]\n",
    "name = ['hong','gil','dong','nim']\n",
    "dic = {}\n",
    "\n",
    "for no, name in zip(no,name):\n",
    "    dic[no] = name\n",
    "    \n",
    "print(dic)"
   ]
  },
  {
   "cell_type": "code",
   "execution_count": 46,
   "id": "b48e6063",
   "metadata": {},
   "outputs": [
    {
     "name": "stdout",
     "output_type": "stream",
     "text": [
      "0 a1 b1\n",
      "1 a2 b2\n",
      "2 a3 b3\n"
     ]
    }
   ],
   "source": [
    "for i, (a,b) in enumerate(zip(alist,blist)):\n",
    "    print(i,a,b)"
   ]
  },
  {
   "cell_type": "markdown",
   "id": "9bf898fb",
   "metadata": {},
   "source": [
    "# lambda 함수\n",
    "익명의 함수"
   ]
  },
  {
   "cell_type": "code",
   "execution_count": 47,
   "id": "59c43727",
   "metadata": {},
   "outputs": [
    {
     "name": "stdout",
     "output_type": "stream",
     "text": [
      "5\n"
     ]
    }
   ],
   "source": [
    "f = lambda x,y : x + y\n",
    "print(f(1,4))"
   ]
  },
  {
   "cell_type": "code",
   "execution_count": 48,
   "id": "78ad1156",
   "metadata": {},
   "outputs": [
    {
     "name": "stdout",
     "output_type": "stream",
     "text": [
      "5\n"
     ]
    }
   ],
   "source": [
    "print((lambda x,y : x+y)(1,4))"
   ]
  },
  {
   "cell_type": "markdown",
   "id": "02338433",
   "metadata": {},
   "source": [
    "# map 함수\n",
    "시퀀스 자료형의 요소에 같은 함수 적용\n",
    "mpa(함수,시퀀스 자료)"
   ]
  },
  {
   "cell_type": "code",
   "execution_count": 49,
   "id": "134fe066",
   "metadata": {},
   "outputs": [
    {
     "name": "stdout",
     "output_type": "stream",
     "text": [
      "[1, 4, 9, 16, 25]\n"
     ]
    }
   ],
   "source": [
    "ex = [1,2,3,4,5]\n",
    "f = lambda x: x**2\n",
    "print(list(map(f,ex)))"
   ]
  },
  {
   "cell_type": "code",
   "execution_count": 50,
   "id": "d96e06dd",
   "metadata": {},
   "outputs": [
    {
     "data": {
      "text/plain": [
       "[1, 4, 9, 16, 25]"
      ]
     },
     "execution_count": 50,
     "metadata": {},
     "output_type": "execute_result"
    }
   ],
   "source": [
    "# 리스트 컴프리헨션\n",
    "[x ** 2 for x in ex]"
   ]
  },
  {
   "cell_type": "code",
   "execution_count": 51,
   "id": "1ed4e3a3",
   "metadata": {},
   "outputs": [
    {
     "data": {
      "text/plain": [
       "[2, 4, 6, 8, 10]"
      ]
     },
     "execution_count": 51,
     "metadata": {},
     "output_type": "execute_result"
    }
   ],
   "source": [
    "# 두개 이상의 시퀀스 자료형에도 적용 가능\n",
    "f = lambda x, y : x+y\n",
    "list(map(f, ex, ex))"
   ]
  },
  {
   "cell_type": "code",
   "execution_count": 52,
   "id": "a6c24552",
   "metadata": {},
   "outputs": [
    {
     "data": {
      "text/plain": [
       "[2, 4, 6, 8, 10]"
      ]
     },
     "execution_count": 52,
     "metadata": {},
     "output_type": "execute_result"
    }
   ],
   "source": [
    "# 리스트 컴프리헨션\n",
    "[x + y for x,y in zip(ex,ex)]"
   ]
  },
  {
   "cell_type": "code",
   "execution_count": 53,
   "id": "120b49ce",
   "metadata": {},
   "outputs": [
    {
     "data": {
      "text/plain": [
       "[1, 4, 3, 16, 5]"
      ]
     },
     "execution_count": 53,
     "metadata": {},
     "output_type": "execute_result"
    }
   ],
   "source": [
    "# filltering\n",
    "list(map(lambda x: x**2 if x % 2 == 0 else x,ex))"
   ]
  },
  {
   "cell_type": "code",
   "execution_count": 54,
   "id": "572e185b",
   "metadata": {},
   "outputs": [
    {
     "data": {
      "text/plain": [
       "[1, 4, 3, 16, 5]"
      ]
     },
     "execution_count": 54,
     "metadata": {},
     "output_type": "execute_result"
    }
   ],
   "source": [
    "# 리스트 컴프리헨션\n",
    "[x ** 2 if x % 2 == 0 else x for x in ex]"
   ]
  },
  {
   "cell_type": "markdown",
   "id": "a4eae484",
   "metadata": {},
   "source": [
    "# reduce 함수\n",
    "시퀀스 자료형의 요소에 차례로 함수를 적용하여 결과를 누적/통합\n",
    "reduce(함수, 시퀀스자료, 초기값)"
   ]
  },
  {
   "cell_type": "code",
   "execution_count": 57,
   "id": "d62db7a2",
   "metadata": {},
   "outputs": [
    {
     "name": "stdout",
     "output_type": "stream",
     "text": [
      "15\n"
     ]
    }
   ],
   "source": [
    "from functools import reduce\n",
    "print(reduce(lambda x,y: x+y, [1,2,3,4,5]))"
   ]
  },
  {
   "cell_type": "code",
   "execution_count": 58,
   "id": "d5e2a57a",
   "metadata": {},
   "outputs": [
    {
     "name": "stdout",
     "output_type": "stream",
     "text": [
      "115\n"
     ]
    }
   ],
   "source": [
    "# 초기값 부여\n",
    "print(reduce(lambda x,y: x+y, [1,2,3,4,5],100))"
   ]
  },
  {
   "cell_type": "code",
   "execution_count": 59,
   "id": "8ec5d2d1",
   "metadata": {},
   "outputs": [
    {
     "name": "stdout",
     "output_type": "stream",
     "text": [
      "100\n"
     ]
    }
   ],
   "source": [
    "# 예제. 최대값 구하기\n",
    "f = lambda a, b: a if (a>b) else b\n",
    "print(reduce(f,[1,100,2,55] ))"
   ]
  },
  {
   "cell_type": "markdown",
   "id": "628cdefb",
   "metadata": {},
   "source": [
    "# 별표(*) 사용"
   ]
  },
  {
   "cell_type": "code",
   "execution_count": 60,
   "id": "6943ae90",
   "metadata": {},
   "outputs": [
    {
     "name": "stdout",
     "output_type": "stream",
     "text": [
      "1 (2, 3, 4, 5, 6)\n",
      "<class 'tuple'>\n"
     ]
    }
   ],
   "source": [
    "# 가변 매개변수\n",
    "def asterisk_test(a, *args):\n",
    "    print(a, args)\n",
    "    print(type(args))\n",
    "    \n",
    "asterisk_test(1,2,3,4,5,6)"
   ]
  },
  {
   "cell_type": "code",
   "execution_count": 61,
   "id": "d2e8ffd1",
   "metadata": {},
   "outputs": [
    {
     "name": "stdout",
     "output_type": "stream",
     "text": [
      "1 {'b': 2, 'c': 3, 'd': 4, 'e': 5, 'f': 6}\n",
      "<class 'dict'>\n"
     ]
    }
   ],
   "source": [
    "# 키워드 가변 매개변수\n",
    "def asterisk_test(a, **kargs):\n",
    "    print(a, kargs)\n",
    "    print(type(kargs))\n",
    "    \n",
    "asterisk_test(1, b=2, c=3, d=4, e=5, f=6)"
   ]
  },
  {
   "cell_type": "code",
   "execution_count": 62,
   "id": "a3e37e4c",
   "metadata": {},
   "outputs": [
    {
     "name": "stdout",
     "output_type": "stream",
     "text": [
      "1 2 3 4 5 6\n",
      "<class 'tuple'>\n"
     ]
    }
   ],
   "source": [
    "# 언패킹\n",
    "def asterisk_test(a, args):\n",
    "    print(a, *args)\n",
    "    print(type(args))\n",
    "    \n",
    "asterisk_test(1,(2,3,4,5,6))"
   ]
  },
  {
   "cell_type": "code",
   "execution_count": 63,
   "id": "1f47c9e5",
   "metadata": {},
   "outputs": [
    {
     "name": "stdout",
     "output_type": "stream",
     "text": [
      "1 (2, 3, 4, 5, 6)\n",
      "<class 'tuple'>\n"
     ]
    }
   ],
   "source": [
    "def asterisk_test(a, *args):\n",
    "    print(a, args)\n",
    "    print(type(args))\n",
    "    \n",
    "asterisk_test(1,*(2,3,4,5,6))"
   ]
  },
  {
   "cell_type": "code",
   "execution_count": 64,
   "id": "831272b8",
   "metadata": {},
   "outputs": [
    {
     "name": "stdout",
     "output_type": "stream",
     "text": [
      "[1, 2] [3, 4] [5, 6]\n"
     ]
    }
   ],
   "source": [
    "# 튜플의 언패킹\n",
    "a, b, c = ([1,2],[3,4],[5,6])\n",
    "print(a,b,c)"
   ]
  },
  {
   "cell_type": "code",
   "execution_count": 65,
   "id": "b1cfd887",
   "metadata": {},
   "outputs": [
    {
     "name": "stdout",
     "output_type": "stream",
     "text": [
      "([1, 2], [3, 4], [5, 6])\n"
     ]
    }
   ],
   "source": [
    "# asterisk의 사용으로 언패킹\n",
    "data = ([1,2],[3,4],[5,6])\n",
    "print(data)"
   ]
  },
  {
   "cell_type": "code",
   "execution_count": 67,
   "id": "fd3cb820",
   "metadata": {},
   "outputs": [
    {
     "name": "stdout",
     "output_type": "stream",
     "text": [
      "(1, 3, 5)\n",
      "9\n",
      "(2, 4, 6)\n",
      "12\n"
     ]
    }
   ],
   "source": [
    "# zip 함수와 함께 사용\n",
    "for data in zip(*[[1,2],[3,4],[5,6]]):\n",
    "    print(data)\n",
    "    print(sum(data))"
   ]
  },
  {
   "cell_type": "code",
   "execution_count": 68,
   "id": "e4020262",
   "metadata": {},
   "outputs": [
    {
     "name": "stdout",
     "output_type": "stream",
     "text": [
      "10 1 2 3\n"
     ]
    }
   ],
   "source": [
    "# 딕셔너리의 언패킹\n",
    "def asterisk_test(a,b,c,d):\n",
    "    print(a,b,c,d)\n",
    "    \n",
    "data = {'b':1, 'c':2, 'd':3}\n",
    "asterisk_test(10,**data)"
   ]
  },
  {
   "cell_type": "code",
   "execution_count": 69,
   "id": "1a141d66",
   "metadata": {},
   "outputs": [
    {
     "name": "stdout",
     "output_type": "stream",
     "text": [
      "5\n"
     ]
    }
   ],
   "source": [
    "# 다른 예제\n",
    "def add(a=0, b=0):\n",
    "    return a+b\n",
    "\n",
    "d = {'a':2, 'b':3}\n",
    "print(add(**d))"
   ]
  },
  {
   "cell_type": "code",
   "execution_count": 72,
   "id": "075baf33",
   "metadata": {},
   "outputs": [
    {
     "name": "stdout",
     "output_type": "stream",
     "text": [
      "arg3: 3\n",
      "arg2: two\n",
      "arg1: 1\n"
     ]
    }
   ],
   "source": [
    "# 또 다른 예제\n",
    "def test(arg1, arg2, arg3):\n",
    "    print('arg3:', arg3)\n",
    "    print('arg2:', arg2)\n",
    "    print('arg1:', arg1)\n",
    "    \n",
    "kwargs = {'arg3':3, 'arg2':'two', 'arg1':1}\n",
    "test(**kwargs)\n"
   ]
  },
  {
   "cell_type": "code",
   "execution_count": null,
   "id": "1c1ab863",
   "metadata": {},
   "outputs": [],
   "source": []
  }
 ],
 "metadata": {
  "kernelspec": {
   "display_name": "Python 3",
   "language": "python",
   "name": "python3"
  },
  "language_info": {
   "codemirror_mode": {
    "name": "ipython",
    "version": 3
   },
   "file_extension": ".py",
   "mimetype": "text/x-python",
   "name": "python",
   "nbconvert_exporter": "python",
   "pygments_lexer": "ipython3",
   "version": "3.8.8"
  }
 },
 "nbformat": 4,
 "nbformat_minor": 5
}
