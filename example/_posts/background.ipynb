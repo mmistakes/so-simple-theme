{
 "cells": [
  {
   "cell_type": "code",
   "execution_count": 4,
   "id": "eed8a59d",
   "metadata": {},
   "outputs": [
    {
     "name": "stdout",
     "output_type": "stream",
     "text": [
      "Requirement already satisfied: pygame in c:\\users\\jangs\\anaconda3\\lib\\site-packages (2.1.2)\n"
     ]
    }
   ],
   "source": [
    "!pip install pygame\n",
    "\n",
    "import pygame\n",
    "\n",
    "pygame.init() #초기화 작업(반드시 필요)\n",
    "\n",
    "\n",
    "#화면크기 설정\n",
    "screen_width = 480 #가로크기\n",
    "screen_height = 640 #세로크기\n",
    "screen = pygame.display.set_mode((screen_width,screen_height))\n",
    "\n",
    "#화면타이틀 설정\n",
    "pygame.display.set_caption(\"Game\") #게임이름\n",
    "\n",
    "#배경이미지 불러오기\n",
    "background = pygame.image.load(\"C:/Users/jangs/pygame/background.png\")\n",
    "\n",
    "\n",
    "#이벤트 루프\n",
    "running = True #게임이 진행중인가?\n",
    "while running: \n",
    "    for event in pygame.event.get(): # 어떤 이벤트가 발생하였는가\n",
    "        if event.type == pygame.QUIT: # 창이 닫히는 이벤트가 발생하면 아래 실행\n",
    "            running = False # 게임이 진행중이 아님\n",
    "    \n",
    "    #screen.blit(background, (0,0)) # 배경이 나올 좌표값 설정\n",
    "    screen.fill((125,255,125)) #rgb값으로도 채울수 있음\n",
    "    \n",
    "    pygame.display.update() #게임화면을 다시 그리기 반드시 호출해야됨\n",
    "\n",
    "\n",
    "            \n",
    "#pygame 종료\n",
    "\n",
    "pygame.quit()"
   ]
  },
  {
   "cell_type": "code",
   "execution_count": null,
   "id": "b28353d1",
   "metadata": {},
   "outputs": [],
   "source": []
  }
 ],
 "metadata": {
  "kernelspec": {
   "display_name": "Python 3",
   "language": "python",
   "name": "python3"
  },
  "language_info": {
   "codemirror_mode": {
    "name": "ipython",
    "version": 3
   },
   "file_extension": ".py",
   "mimetype": "text/x-python",
   "name": "python",
   "nbconvert_exporter": "python",
   "pygments_lexer": "ipython3",
   "version": "3.8.8"
  }
 },
 "nbformat": 4,
 "nbformat_minor": 5
}
